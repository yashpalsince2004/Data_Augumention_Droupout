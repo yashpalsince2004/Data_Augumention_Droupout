{
 "cells": [
  {
   "cell_type": "markdown",
   "metadata": {},
   "source": [
    "# 🚀 Day 6: Improve CNN using Data Augmentation & Dropout (Hinglish)\n",
    "Aaj hum apna model aur better banayenge using advanced techniques."
   ]
  },
  {
   "cell_type": "markdown",
   "metadata": {},
   "source": [
    "## 🔍 Data Augmentation Kya Hai?\n",
    "| Technique        | Description (Hinglish)              |\n",
    "|------------------|--------------------------------------|\n",
    "| Rotation         | Image ko ghumana                     |\n",
    "| Zoom             | Thoda zoom-in/zoom-out              |\n",
    "| Shift            | Image thoda idhar-udhar move karna  |\n",
    "| Flip             | Horizontal ya vertical ulta karna   |"
   ]
  },
  {
   "cell_type": "code",
   "execution_count": null,
   "metadata": {},
   "outputs": [],
   "source": [
    "# ✅ TensorFlow & Augmentation Import karo\n",
    "import tensorflow as tf\n",
    "from tensorflow import keras\n",
    "from tensorflow.keras.preprocessing.image import ImageDataGenerator\n",
    "import matplotlib.pyplot as plt\n",
    "\n",
    "(X_train, y_train), (X_test, y_test) = keras.datasets.mnist.load_data()\n",
    "X_train = X_train / 255.0\n",
    "X_test = X_test / 255.0\n",
    "\n",
    "# Data Augmentation setup\n",
    "datagen = ImageDataGenerator(\n",
    "    rotation_range=10,\n",
    "    zoom_range=0.1,\n",
    "    width_shift_range=0.1,\n",
    "    height_shift_range=0.1\n",
    ")\n",
    "datagen.fit(X_train.reshape(-1, 28, 28, 1))"
   ]
  },
  {
   "cell_type": "markdown",
   "metadata": {},
   "source": [
    "## 🧱 CNN Model with Dropout\n",
    "- Dropout layers randomly kuch neurons ko deactivate karte hain\n",
    "- Ye overfitting ko prevent karta hai\n",
    "- Har stage pe Dropout add kiya gaya hai"
   ]
  },
  {
   "cell_type": "code",
   "execution_count": null,
   "metadata": {},
   "outputs": [],
   "source": [
    "model = keras.Sequential([\n",
    "    keras.layers.Reshape((28, 28, 1), input_shape=(28, 28)),\n",
    "    keras.layers.Conv2D(32, (3, 3), activation='relu'),\n",
    "    keras.layers.MaxPooling2D(2, 2),\n",
    "    keras.layers.Dropout(0.25),\n",
    "    keras.layers.Conv2D(64, (3, 3), activation='relu'),\n",
    "    keras.layers.MaxPooling2D(2, 2),\n",
    "    keras.layers.Dropout(0.25),\n",
    "    keras.layers.Flatten(),\n",
    "    keras.layers.Dense(128, activation='relu'),\n",
    "    keras.layers.Dropout(0.5),\n",
    "    keras.layers.Dense(10, activation='softmax')\n",
    "])"
   ]
  },
  {
   "cell_type": "markdown",
   "metadata": {},
   "source": [
    "## ⚙️ Compile & Train with Augmentation\n",
    "- Adam Optimizer\n",
    "- 10 Epochs\n",
    "- Batch Size = 64\n",
    "- Augmented Data se training karenge"
   ]
  },
  {
   "cell_type": "code",
   "execution_count": null,
   "metadata": {},
   "outputs": [],
   "source": [
    "model.compile(optimizer='adam',\n",
    "              loss='sparse_categorical_crossentropy',\n",
    "              metrics=['accuracy'])\n",
    "\n",
    "model.fit(\n",
    "    datagen.flow(X_train.reshape(-1, 28, 28, 1), y_train, batch_size=64),\n",
    "    epochs=10,\n",
    "    validation_data=(X_test.reshape(-1, 28, 28, 1), y_test)\n",
    ")"
   ]
  },
  {
   "cell_type": "markdown",
   "metadata": {},
   "source": [
    "## 📈 Accuracy Evaluate karo\n",
    "Model performance ko check karte hain test data par."
   ]
  },
  {
   "cell_type": "code",
   "execution_count": null,
   "metadata": {},
   "outputs": [],
   "source": [
    "test_loss, test_acc = model.evaluate(X_test.reshape(-1, 28, 28, 1), y_test)\n",
    "print(\"CNN with Augmentation Test Accuracy:\", test_acc)"
   ]
  },
  {
   "cell_type": "markdown",
   "id": "64d03217",
   "metadata": {},
   "source": [
    "## Visualization"
   ]
  },
  {
   "cell_type": "code",
   "execution_count": null,
   "id": "4a16097e",
   "metadata": {},
   "outputs": [],
   "source": [
    "# ✅ 🔍 Visualize Augmented Samples\n",
    "sample_image = X_train[0].reshape(1, 28, 28, 1)\n",
    "aug_iter = datagen.flow(sample_image, batch_size=1)\n",
    "\n",
    "plt.figure(figsize=(6, 6))\n",
    "for i in range(9):\n",
    "    aug_image = next(aug_iter)[0].reshape(28, 28)\n",
    "    plt.subplot(3, 3, i+1)\n",
    "    plt.imshow(aug_image, cmap='gray')\n",
    "    plt.axis('off')\n",
    "plt.suptitle(\"🌀 Augmented MNIST Samples\", fontsize=14)\n",
    "plt.tight_layout()\n",
    "plt.show()"
   ]
  },
  {
   "cell_type": "markdown",
   "id": "6512ca69",
   "metadata": {},
   "source": [
    "## Visualization after Epoch"
   ]
  },
  {
   "cell_type": "code",
   "execution_count": null,
   "id": "70417749",
   "metadata": {},
   "outputs": [],
   "source": [
    "# ✅ 🔍 Visualize Accuracy & Loss\n",
    "plt.figure(figsize=(12, 5))\n",
    "\n",
    "# Accuracy\n",
    "plt.subplot(1, 2, 1)\n",
    "plt.plot(history.history['accuracy'], label='Train Acc')\n",
    "plt.plot(history.history['val_accuracy'], label='Val Acc')\n",
    "plt.title('📈 Accuracy over Epochs')\n",
    "plt.xlabel('Epoch')\n",
    "plt.ylabel('Accuracy')\n",
    "plt.legend()\n",
    "\n",
    "# Loss\n",
    "plt.subplot(1, 2, 2)\n",
    "plt.plot(history.history['loss'], label='Train Loss')\n",
    "plt.plot(history.history['val_loss'], label='Val Loss')\n",
    "plt.title('📉 Loss over Epochs')\n",
    "plt.xlabel('Epoch')\n",
    "plt.ylabel('Loss')\n",
    "plt.legend()\n",
    "\n",
    "plt.tight_layout()\n",
    "plt.show()\n",
    "# ✅ Final Evaluation\n",
    "test_loss, test_acc = model.evaluate(X_test.reshape(-1, 28, 28, 1), y_test)\n",
    "print(\"✅ Final Test Accuracy:\", test_acc)  "
   ]
  }
 ],
 "metadata": {
  "kernelspec": {
   "display_name": "venv",
   "language": "python",
   "name": "python3"
  },
  "language_info": {
   "codemirror_mode": {
    "name": "ipython",
    "version": 3
   },
   "file_extension": ".py",
   "mimetype": "text/x-python",
   "name": "python",
   "nbconvert_exporter": "python",
   "pygments_lexer": "ipython3",
   "version": "3.10.0"
  }
 },
 "nbformat": 4,
 "nbformat_minor": 5
}
